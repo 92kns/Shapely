{
 "cells": [
  {
   "cell_type": "code",
   "execution_count": 70,
   "metadata": {},
   "outputs": [],
   "source": [
    "import shapely.geometry as sg\n",
    "import shapely\n",
    "import numpy as np\n",
    "import random\n",
    "import math"
   ]
  },
  {
   "cell_type": "code",
   "execution_count": 4,
   "metadata": {},
   "outputs": [
    {
     "data": {
      "image/svg+xml": [
       "<svg xmlns=\"http://www.w3.org/2000/svg\" xmlns:xlink=\"http://www.w3.org/1999/xlink\" width=\"100.0\" height=\"100.0\" viewBox=\"-0.4 -0.4 10.8 10.8\" preserveAspectRatio=\"xMinYMin meet\"><g transform=\"matrix(1,0,0,-1,0,10.0)\"><path fill-rule=\"evenodd\" fill=\"#66cc99\" stroke=\"#555555\" stroke-width=\"0.21600000000000003\" opacity=\"0.6\" d=\"M 10.0,0.0 L 10.0,10.0 L 0.0,10.0 L 0.0,0.0 L 10.0,0.0 z\" /></g></svg>"
      ],
      "text/plain": [
       "<shapely.geometry.polygon.Polygon at 0x1f141e77bc8>"
      ]
     },
     "execution_count": 4,
     "metadata": {},
     "output_type": "execute_result"
    }
   ],
   "source": [
    "box_min,box_max = 0,10\n",
    "\n",
    "box1 = sg.box(0,0,10,10)\n",
    "box1"
   ]
  },
  {
   "cell_type": "code",
   "execution_count": 5,
   "metadata": {},
   "outputs": [],
   "source": [
    "pts_per_side = 2"
   ]
  },
  {
   "cell_type": "code",
   "execution_count": 6,
   "metadata": {},
   "outputs": [],
   "source": [
    "side1 = np.random.randint(box_min+1,box_max*10,(pts_per_side))/10\n",
    "side1.sort()\n",
    "side2 = np.random.randint(box_min+1,box_max*10,(pts_per_side))/10\n",
    "side2.sort()\n",
    "side3 = np.random.randint(box_min+1,box_max*10,(pts_per_side))/10\n",
    "side3[::-1].sort()\n",
    "side4 = np.random.randint(box_min+1,box_max*10,(pts_per_side))/10\n",
    "side4[::-1].sort()"
   ]
  },
  {
   "cell_type": "code",
   "execution_count": 7,
   "metadata": {},
   "outputs": [],
   "source": [
    "# actual corners \n",
    "BL= [(box_min,box_min)]\n",
    "TL = [(box_min,box_max)]\n",
    "TR = [(box_max,box_max)]\n",
    "BR = [(box_max, box_min)]\n"
   ]
  },
  {
   "cell_type": "code",
   "execution_count": 8,
   "metadata": {},
   "outputs": [],
   "source": [
    "# make points\n",
    "# side1_new = BL+ [(box_min,x) for x in side1]+ TL\n",
    "# side1_pts = [sg.Point(p) for pc in side1_new]\n",
    "# side1_mpts = sg.MultiPoint(side1_pts)\n",
    "# side2_pts = [sg.Point(x,box_max) for x in side2]\n",
    "# side2_mpts = sg.MultiPoint(side2_pts)\n",
    "# side3_pts = [sg.Point(x,box_min) for x in side3]\n",
    "# side3_mpts = sg.MultiPoint(side3_pts)\n",
    "# side4_pts = [sg.Point(box_max,x) for x in side4]\n",
    "# side4_mpts = sg.MultiPoint(side4_pts)"
   ]
  },
  {
   "cell_type": "code",
   "execution_count": 9,
   "metadata": {},
   "outputs": [],
   "source": [
    "side1_new = BL+ [(box_min,x) for x in side1]\n",
    "side1_pts = [sg.Point(p) for p in side1_new]\n",
    "side1_mpts = sg.MultiPoint(side1_pts)\n",
    "\n",
    "side2_new = TL+ [(x,box_max) for x in side2]\n",
    "side2_pts = [sg.Point(p) for p in side2_new]\n",
    "side2_mpts = sg.MultiPoint(side2_pts)\n",
    "\n",
    "side3_new = TR+ [(box_max,x) for x in side3]\n",
    "side3_pts = [sg.Point(p) for p in side3_new]\n",
    "side3_mpts = sg.MultiPoint(side3_pts)\n",
    "\n",
    "side4_new = BR+ [(x,box_min) for x in side4]+ BL\n",
    "side4_pts = [sg.Point(p) for p in side4_new]\n",
    "side4_mpts = sg.MultiPoint(side4_pts)\n",
    "# side1_mpts"
   ]
  },
  {
   "cell_type": "code",
   "execution_count": 10,
   "metadata": {},
   "outputs": [
    {
     "data": {
      "image/svg+xml": [
       "<svg xmlns=\"http://www.w3.org/2000/svg\" xmlns:xlink=\"http://www.w3.org/1999/xlink\" width=\"100.0\" height=\"100.0\" viewBox=\"-0.4 -0.4 10.8 10.8\" preserveAspectRatio=\"xMinYMin meet\"><g transform=\"matrix(1,0,0,-1,0,10.0)\"><path fill-rule=\"evenodd\" fill=\"#66cc99\" stroke=\"#555555\" stroke-width=\"0.21600000000000003\" opacity=\"0.6\" d=\"M 0.0,0.0 L 0.0,2.3 L 0.0,8.6 L 0.0,10.0 L 0.6,10.0 L 5.4,10.0 L 10.0,10.0 L 10.0,5.8 L 10.0,0.9 L 10.0,0.0 L 7.9,0.0 L 3.7,0.0 L 0.0,0.0 z\" /></g></svg>"
      ],
      "text/plain": [
       "<shapely.geometry.polygon.Polygon at 0x1f141e90f48>"
      ]
     },
     "execution_count": 10,
     "metadata": {},
     "output_type": "execute_result"
    }
   ],
   "source": [
    "degenerate_geom = sg.Polygon(side1_pts + side2_pts + side3_pts + side4_pts)\n",
    "degenerate_geom\n"
   ]
  },
  {
   "cell_type": "code",
   "execution_count": 11,
   "metadata": {},
   "outputs": [
    {
     "data": {
      "image/svg+xml": [
       "<svg xmlns=\"http://www.w3.org/2000/svg\" xmlns:xlink=\"http://www.w3.org/1999/xlink\" width=\"100.0\" height=\"100.0\" viewBox=\"-0.4 -0.4 10.8 10.8\" preserveAspectRatio=\"xMinYMin meet\"><g transform=\"matrix(1,0,0,-1,0,10.0)\"><g><circle cx=\"0.0\" cy=\"0.0\" r=\"0.32400000000000007\" stroke=\"#555555\" stroke-width=\"0.10800000000000001\" fill=\"#66cc99\" opacity=\"0.6\" /><circle cx=\"0.0\" cy=\"2.3\" r=\"0.32400000000000007\" stroke=\"#555555\" stroke-width=\"0.10800000000000001\" fill=\"#66cc99\" opacity=\"0.6\" /><circle cx=\"0.0\" cy=\"8.6\" r=\"0.32400000000000007\" stroke=\"#555555\" stroke-width=\"0.10800000000000001\" fill=\"#66cc99\" opacity=\"0.6\" /><circle cx=\"0.0\" cy=\"10.0\" r=\"0.32400000000000007\" stroke=\"#555555\" stroke-width=\"0.10800000000000001\" fill=\"#66cc99\" opacity=\"0.6\" /><circle cx=\"0.6\" cy=\"10.0\" r=\"0.32400000000000007\" stroke=\"#555555\" stroke-width=\"0.10800000000000001\" fill=\"#66cc99\" opacity=\"0.6\" /><circle cx=\"3.7\" cy=\"0.0\" r=\"0.32400000000000007\" stroke=\"#555555\" stroke-width=\"0.10800000000000001\" fill=\"#66cc99\" opacity=\"0.6\" /><circle cx=\"5.4\" cy=\"10.0\" r=\"0.32400000000000007\" stroke=\"#555555\" stroke-width=\"0.10800000000000001\" fill=\"#66cc99\" opacity=\"0.6\" /><circle cx=\"7.9\" cy=\"0.0\" r=\"0.32400000000000007\" stroke=\"#555555\" stroke-width=\"0.10800000000000001\" fill=\"#66cc99\" opacity=\"0.6\" /><circle cx=\"10.0\" cy=\"0.0\" r=\"0.32400000000000007\" stroke=\"#555555\" stroke-width=\"0.10800000000000001\" fill=\"#66cc99\" opacity=\"0.6\" /><circle cx=\"10.0\" cy=\"0.9\" r=\"0.32400000000000007\" stroke=\"#555555\" stroke-width=\"0.10800000000000001\" fill=\"#66cc99\" opacity=\"0.6\" /><circle cx=\"10.0\" cy=\"5.8\" r=\"0.32400000000000007\" stroke=\"#555555\" stroke-width=\"0.10800000000000001\" fill=\"#66cc99\" opacity=\"0.6\" /><circle cx=\"10.0\" cy=\"10.0\" r=\"0.32400000000000007\" stroke=\"#555555\" stroke-width=\"0.10800000000000001\" fill=\"#66cc99\" opacity=\"0.6\" /></g></g></svg>"
      ],
      "text/plain": [
       "<shapely.geometry.multipoint.MultiPoint at 0x1f141e90ec8>"
      ]
     },
     "execution_count": 11,
     "metadata": {},
     "output_type": "execute_result"
    }
   ],
   "source": [
    "side1_mpts.union(side2_mpts).union(side3_mpts).union(side4_mpts)"
   ]
  },
  {
   "cell_type": "code",
   "execution_count": 12,
   "metadata": {},
   "outputs": [
    {
     "data": {
      "text/plain": [
       "13"
      ]
     },
     "execution_count": 12,
     "metadata": {},
     "output_type": "execute_result"
    }
   ],
   "source": [
    "# verify got too many pts than needed for a box\n",
    "len(degenerate_geom.exterior.coords[:]) "
   ]
  },
  {
   "cell_type": "code",
   "execution_count": 13,
   "metadata": {},
   "outputs": [
    {
     "data": {
      "text/plain": [
       "False"
      ]
     },
     "execution_count": 13,
     "metadata": {},
     "output_type": "execute_result"
    }
   ],
   "source": [
    "degenerate_geom.exterior.is_ccw\n"
   ]
  },
  {
   "cell_type": "code",
   "execution_count": null,
   "metadata": {},
   "outputs": [],
   "source": []
  },
  {
   "cell_type": "code",
   "execution_count": 14,
   "metadata": {},
   "outputs": [],
   "source": [
    "# shapely.geometry.polygon.orient(polygon, sign=1.0)\n",
    "dg2 = sg.polygon.orient(degenerate_geom,sign=1.0)"
   ]
  },
  {
   "cell_type": "code",
   "execution_count": 15,
   "metadata": {},
   "outputs": [
    {
     "data": {
      "text/plain": [
       "True"
      ]
     },
     "execution_count": 15,
     "metadata": {},
     "output_type": "execute_result"
    }
   ],
   "source": [
    "dg2.exterior.is_ccw"
   ]
  },
  {
   "cell_type": "code",
   "execution_count": 37,
   "metadata": {},
   "outputs": [],
   "source": [
    "def get_angles(vec_1,vec_2):\n",
    "    dot = np.dot(vec_1, vec_2)\n",
    "    det = np.cross(vec_1,vec_2)\n",
    "    angle_rad = np.arctan2(det,dot)\n",
    "    return np.degrees(angle_rad)\n",
    "\n",
    "\n",
    "def simplify_by_interior_angle(poly_in, deg_tol = 5):\n",
    "    \"\"\"\n",
    "    attempt to get persistent coordinate points that remain after\n",
    "    simplify, convex hul, etc\n",
    "    \n",
    "    \"\"\"\n",
    "    \n",
    "    ext_poly_coords = poly_in.exterior.coords[:]\n",
    "#     ext_poly_coords = ext_poly_coords[1:] + ext_poly_coords[:1]\n",
    "#     # reassign last to first, so we have a proper linear ring sequence for shapely polygon\n",
    "#     ext_poly_coords[-1] = ext_poly_coords[0]\n",
    "    vector_rep = np.diff(ext_poly_coords,axis = 0)\n",
    "    angles_list = []\n",
    "    for i in range(0,len(vector_rep) -1 ):\n",
    "        angles_list.append(np.abs(get_angles(vector_rep[i],vector_rep[i+1])))\n",
    "    \n",
    "  \n",
    "    thresh_vals_by_deg = np.where(np.array(angles_list) > deg_tol)\n",
    "#   gotta be a better way to do this. sandwich betweens first and last pts\n",
    "    new_idx = [0] + (thresh_vals_by_deg[0] + 1).tolist() + [0]\n",
    "    new_vertices = [ext_poly_coords[idx] for idx in new_idx]\n",
    "    \n",
    "#     add geom type check l8r, for now only interested in poly\n",
    "#     try:\n",
    "#         return sg.Polygon(new_vertices)\n",
    "#     except:\n",
    "#         return vector_rep\n",
    "    return sg.Polygon(new_vertices)\n",
    "\n",
    "\n",
    "        "
   ]
  },
  {
   "cell_type": "code",
   "execution_count": null,
   "metadata": {},
   "outputs": [],
   "source": []
  },
  {
   "cell_type": "code",
   "execution_count": 17,
   "metadata": {},
   "outputs": [
    {
     "name": "stdout",
     "output_type": "stream",
     "text": [
      "[0.0, 0.0, 90.0, 0.0, 0.0, 90.0, 0.0, 0.0, 90.0, 0.0, 0.0]\n",
      "[(0.0, 0.0), (0.0, 2.3), (0.0, 8.6), (0.0, 10.0), (0.6, 10.0), (5.4, 10.0), (10.0, 10.0), (10.0, 5.8), (10.0, 0.9), (10.0, 0.0), (7.9, 0.0), (3.7, 0.0), (0.0, 0.0)]\n",
      "13\n",
      "\n",
      "[(0.0, 0.0), (0.0, 10.0), (10.0, 10.0), (10.0, 0.0), (0.0, 0.0)]\n"
     ]
    },
    {
     "data": {
      "image/svg+xml": [
       "<svg xmlns=\"http://www.w3.org/2000/svg\" xmlns:xlink=\"http://www.w3.org/1999/xlink\" width=\"100.0\" height=\"100.0\" viewBox=\"-0.4 -0.4 10.8 10.8\" preserveAspectRatio=\"xMinYMin meet\"><g transform=\"matrix(1,0,0,-1,0,10.0)\"><path fill-rule=\"evenodd\" fill=\"#66cc99\" stroke=\"#555555\" stroke-width=\"0.21600000000000003\" opacity=\"0.6\" d=\"M 0.0,0.0 L 0.0,10.0 L 10.0,10.0 L 10.0,0.0 L 0.0,0.0 z\" /></g></svg>"
      ],
      "text/plain": [
       "<shapely.geometry.polygon.Polygon at 0x1f141eb2288>"
      ]
     },
     "execution_count": 17,
     "metadata": {},
     "output_type": "execute_result"
    }
   ],
   "source": [
    "simple_geom = simplify_by_interior_angle(degenerate_geom)\n",
    "simple_geom"
   ]
  },
  {
   "cell_type": "code",
   "execution_count": 18,
   "metadata": {},
   "outputs": [
    {
     "name": "stdout",
     "output_type": "stream",
     "text": [
      "[90.0, 90.0, 90.0]\n",
      "[(0.0, 0.0), (0.0, 10.0), (10.0, 10.0), (10.0, 0.0), (0.0, 0.0)]\n",
      "5\n",
      "\n",
      "[(0.0, 0.0), (0.0, 10.0), (10.0, 10.0), (10.0, 0.0), (0.0, 0.0)]\n"
     ]
    },
    {
     "data": {
      "image/svg+xml": [
       "<svg xmlns=\"http://www.w3.org/2000/svg\" xmlns:xlink=\"http://www.w3.org/1999/xlink\" width=\"100.0\" height=\"100.0\" viewBox=\"-0.4 -0.4 10.8 10.8\" preserveAspectRatio=\"xMinYMin meet\"><g transform=\"matrix(1,0,0,-1,0,10.0)\"><path fill-rule=\"evenodd\" fill=\"#66cc99\" stroke=\"#555555\" stroke-width=\"0.21600000000000003\" opacity=\"0.6\" d=\"M 0.0,0.0 L 0.0,10.0 L 10.0,10.0 L 10.0,0.0 L 0.0,0.0 z\" /></g></svg>"
      ],
      "text/plain": [
       "<shapely.geometry.polygon.Polygon at 0x1f141eb2488>"
      ]
     },
     "execution_count": 18,
     "metadata": {},
     "output_type": "execute_result"
    }
   ],
   "source": [
    "pass2 = simplify_by_interior_angle(simple_geom)\n",
    "pass2"
   ]
  },
  {
   "cell_type": "code",
   "execution_count": 19,
   "metadata": {},
   "outputs": [
    {
     "name": "stdout",
     "output_type": "stream",
     "text": [
      "[0.0, 0.0, 90.0, 0.0, 0.0, 90.0, 0.0, 0.0, 90.0, 0.0, 0.0]\n",
      "[(0.0, 0.0), (3.7, 0.0), (7.9, 0.0), (10.0, 0.0), (10.0, 0.9), (10.0, 5.8), (10.0, 10.0), (5.4, 10.0), (0.6, 10.0), (0.0, 10.0), (0.0, 8.6), (0.0, 2.3), (0.0, 0.0)]\n",
      "13\n",
      "\n",
      "[(0.0, 0.0), (10.0, 0.0), (10.0, 10.0), (0.0, 10.0), (0.0, 0.0)]\n"
     ]
    },
    {
     "data": {
      "image/svg+xml": [
       "<svg xmlns=\"http://www.w3.org/2000/svg\" xmlns:xlink=\"http://www.w3.org/1999/xlink\" width=\"100.0\" height=\"100.0\" viewBox=\"-0.4 -0.4 10.8 10.8\" preserveAspectRatio=\"xMinYMin meet\"><g transform=\"matrix(1,0,0,-1,0,10.0)\"><path fill-rule=\"evenodd\" fill=\"#66cc99\" stroke=\"#555555\" stroke-width=\"0.21600000000000003\" opacity=\"0.6\" d=\"M 0.0,0.0 L 10.0,0.0 L 10.0,10.0 L 0.0,10.0 L 0.0,0.0 z\" /></g></svg>"
      ],
      "text/plain": [
       "<shapely.geometry.polygon.Polygon at 0x1f141e9fa08>"
      ]
     },
     "execution_count": 19,
     "metadata": {},
     "output_type": "execute_result"
    }
   ],
   "source": [
    "simple_geom = simplify_by_interior_angle(dg2)\n",
    "simple_geom"
   ]
  },
  {
   "cell_type": "code",
   "execution_count": 20,
   "metadata": {},
   "outputs": [
    {
     "data": {
      "image/svg+xml": [
       "<svg xmlns=\"http://www.w3.org/2000/svg\" xmlns:xlink=\"http://www.w3.org/1999/xlink\" width=\"100.0\" height=\"100.0\" viewBox=\"-0.4 -0.4 10.8 10.8\" preserveAspectRatio=\"xMinYMin meet\"><g transform=\"matrix(1,0,0,-1,0,10.0)\"><path fill-rule=\"evenodd\" fill=\"#66cc99\" stroke=\"#555555\" stroke-width=\"0.21600000000000003\" opacity=\"0.6\" d=\"M 0.0,0.0 L 10.0,0.0 L 10.0,10.0 L 0.0,10.0 L 0.0,0.0 z\" /></g></svg>"
      ],
      "text/plain": [
       "<shapely.geometry.polygon.Polygon at 0x1f141e9fa08>"
      ]
     },
     "execution_count": 20,
     "metadata": {},
     "output_type": "execute_result"
    }
   ],
   "source": [
    "simple_geom"
   ]
  },
  {
   "cell_type": "code",
   "execution_count": 21,
   "metadata": {},
   "outputs": [],
   "source": [
    "sdg2 = dg2.simplify(tolerance=1e-10)"
   ]
  },
  {
   "cell_type": "code",
   "execution_count": 22,
   "metadata": {},
   "outputs": [
    {
     "name": "stdout",
     "output_type": "stream",
     "text": [
      "[(0.0, 0.0), (10.0, 0.0), (10.0, 10.0), (0.0, 10.0), (0.0, 0.0)]\n"
     ]
    }
   ],
   "source": [
    "print(sdg2.exterior.coords[:])"
   ]
  },
  {
   "cell_type": "code",
   "execution_count": 23,
   "metadata": {},
   "outputs": [],
   "source": [
    "# generate degenerate polys given vertices"
   ]
  },
  {
   "cell_type": "markdown",
   "metadata": {},
   "source": [
    "# # try random geoms"
   ]
  },
  {
   "cell_type": "code",
   "execution_count": 33,
   "metadata": {},
   "outputs": [],
   "source": [
    "test_poly1_coords = [[-156.01, 19.62], [-156.03, 19.66], [-156.05, 19.70], [-156.01, 19.78], [-156.01, 19.70], [-156.01, 19.62]]\n",
    "test_poly1 = sg.Polygon(test_poly1_coords)\n",
    "test_pt1 = [sg.Point(x) for x in test_poly1_coords]\n",
    "test_mpt1 = sg.MultiPoint(test_pt1)\n"
   ]
  },
  {
   "cell_type": "code",
   "execution_count": 34,
   "metadata": {},
   "outputs": [
    {
     "data": {
      "image/svg+xml": [
       "<svg xmlns=\"http://www.w3.org/2000/svg\" xmlns:xlink=\"http://www.w3.org/1999/xlink\" width=\"100.0\" height=\"100.0\" viewBox=\"-156.05640000000002 19.6136 0.052800000000047476 0.17279999999999873\" preserveAspectRatio=\"xMinYMin meet\"><g transform=\"matrix(1,0,0,-1,0,39.400000000000006)\"><g><circle cx=\"-156.01\" cy=\"19.62\" r=\"0.005183999999999962\" stroke=\"#555555\" stroke-width=\"0.0017279999999999874\" fill=\"#66cc99\" opacity=\"0.6\" /><circle cx=\"-156.03\" cy=\"19.66\" r=\"0.005183999999999962\" stroke=\"#555555\" stroke-width=\"0.0017279999999999874\" fill=\"#66cc99\" opacity=\"0.6\" /><circle cx=\"-156.05\" cy=\"19.7\" r=\"0.005183999999999962\" stroke=\"#555555\" stroke-width=\"0.0017279999999999874\" fill=\"#66cc99\" opacity=\"0.6\" /><circle cx=\"-156.01\" cy=\"19.78\" r=\"0.005183999999999962\" stroke=\"#555555\" stroke-width=\"0.0017279999999999874\" fill=\"#66cc99\" opacity=\"0.6\" /><circle cx=\"-156.01\" cy=\"19.7\" r=\"0.005183999999999962\" stroke=\"#555555\" stroke-width=\"0.0017279999999999874\" fill=\"#66cc99\" opacity=\"0.6\" /><circle cx=\"-156.01\" cy=\"19.62\" r=\"0.005183999999999962\" stroke=\"#555555\" stroke-width=\"0.0017279999999999874\" fill=\"#66cc99\" opacity=\"0.6\" /></g></g></svg>"
      ],
      "text/plain": [
       "<shapely.geometry.multipoint.MultiPoint at 0x1f143f7ad88>"
      ]
     },
     "execution_count": 34,
     "metadata": {},
     "output_type": "execute_result"
    }
   ],
   "source": [
    "test_mpt1"
   ]
  },
  {
   "cell_type": "code",
   "execution_count": 38,
   "metadata": {},
   "outputs": [],
   "source": [
    "test_poly1_simp = simplify_by_interior_angle(test_poly1)"
   ]
  },
  {
   "cell_type": "code",
   "execution_count": 40,
   "metadata": {},
   "outputs": [
    {
     "data": {
      "text/plain": [
       "6"
      ]
     },
     "execution_count": 40,
     "metadata": {},
     "output_type": "execute_result"
    }
   ],
   "source": [
    "len(test_poly1.exterior.coords[:])\n"
   ]
  },
  {
   "cell_type": "code",
   "execution_count": 42,
   "metadata": {},
   "outputs": [
    {
     "name": "stdout",
     "output_type": "stream",
     "text": [
      "[(-156.01, 19.62), (-156.05, 19.7), (-156.01, 19.78), (-156.01, 19.62)]\n"
     ]
    }
   ],
   "source": [
    "print(test_poly1_simp.exterior.coords[:])"
   ]
  },
  {
   "cell_type": "code",
   "execution_count": 46,
   "metadata": {},
   "outputs": [
    {
     "data": {
      "text/plain": [
       "5"
      ]
     },
     "execution_count": 46,
     "metadata": {},
     "output_type": "execute_result"
    }
   ],
   "source": [
    "after = test_poly1.simplify(1e-5)\n",
    "len(after.exterior.coords[:])"
   ]
  },
  {
   "cell_type": "code",
   "execution_count": 47,
   "metadata": {},
   "outputs": [],
   "source": [
    "def poly_as_mpt(polygon):\n",
    "    coords = polygon.exterior.coords[:]\n",
    "    as_pts = [sg.Point(x) for x in coords]\n",
    "    as_mpt = sg.MultiPoint(as_pts)\n",
    "    return as_mpt"
   ]
  },
  {
   "cell_type": "code",
   "execution_count": 48,
   "metadata": {},
   "outputs": [
    {
     "data": {
      "image/svg+xml": [
       "<svg xmlns=\"http://www.w3.org/2000/svg\" xmlns:xlink=\"http://www.w3.org/1999/xlink\" width=\"100.0\" height=\"100.0\" viewBox=\"-156.05640000000002 19.6136 0.052800000000047476 0.17279999999999873\" preserveAspectRatio=\"xMinYMin meet\"><g transform=\"matrix(1,0,0,-1,0,39.400000000000006)\"><g><circle cx=\"-156.01\" cy=\"19.62\" r=\"0.005183999999999962\" stroke=\"#555555\" stroke-width=\"0.0017279999999999874\" fill=\"#66cc99\" opacity=\"0.6\" /><circle cx=\"-156.05\" cy=\"19.7\" r=\"0.005183999999999962\" stroke=\"#555555\" stroke-width=\"0.0017279999999999874\" fill=\"#66cc99\" opacity=\"0.6\" /><circle cx=\"-156.01\" cy=\"19.78\" r=\"0.005183999999999962\" stroke=\"#555555\" stroke-width=\"0.0017279999999999874\" fill=\"#66cc99\" opacity=\"0.6\" /><circle cx=\"-156.01\" cy=\"19.7\" r=\"0.005183999999999962\" stroke=\"#555555\" stroke-width=\"0.0017279999999999874\" fill=\"#66cc99\" opacity=\"0.6\" /><circle cx=\"-156.01\" cy=\"19.62\" r=\"0.005183999999999962\" stroke=\"#555555\" stroke-width=\"0.0017279999999999874\" fill=\"#66cc99\" opacity=\"0.6\" /></g></g></svg>"
      ],
      "text/plain": [
       "<shapely.geometry.multipoint.MultiPoint at 0x1f1443ac908>"
      ]
     },
     "execution_count": 48,
     "metadata": {},
     "output_type": "execute_result"
    }
   ],
   "source": [
    "poly_as_mpt(after)"
   ]
  },
  {
   "cell_type": "code",
   "execution_count": 63,
   "metadata": {},
   "outputs": [],
   "source": [
    "# Case 1: the point at (0, 0.5) is removed.\n",
    "coords = [(0, 0), (0, 0.5), (0, 1), (1, 1), (1, 0)]\n",
    "polygon1 = shapely.geometry.Polygon(coords)\n",
    "simplified_polygon1 = polygon1.simplify(1e-5)\n",
    "\n",
    "# Case 2: the point at (0, 0.5) is not removed.\n",
    "coords = coords[1:] + [coords[0]]\n",
    "polygon2 = shapely.geometry.Polygon(coords)\n",
    "simplified_polygon2 = polygon2.simplify(1e-5)"
   ]
  },
  {
   "cell_type": "code",
   "execution_count": 66,
   "metadata": {},
   "outputs": [
    {
     "data": {
      "image/svg+xml": [
       "<svg xmlns=\"http://www.w3.org/2000/svg\" xmlns:xlink=\"http://www.w3.org/1999/xlink\" width=\"100.0\" height=\"100.0\" viewBox=\"-0.04 -0.04 1.08 1.08\" preserveAspectRatio=\"xMinYMin meet\"><g transform=\"matrix(1,0,0,-1,0,1.0)\"><g><circle cx=\"0.0\" cy=\"0.5\" r=\"0.0324\" stroke=\"#555555\" stroke-width=\"0.0108\" fill=\"#66cc99\" opacity=\"0.6\" /><circle cx=\"0.0\" cy=\"1.0\" r=\"0.0324\" stroke=\"#555555\" stroke-width=\"0.0108\" fill=\"#66cc99\" opacity=\"0.6\" /><circle cx=\"1.0\" cy=\"1.0\" r=\"0.0324\" stroke=\"#555555\" stroke-width=\"0.0108\" fill=\"#66cc99\" opacity=\"0.6\" /><circle cx=\"1.0\" cy=\"0.0\" r=\"0.0324\" stroke=\"#555555\" stroke-width=\"0.0108\" fill=\"#66cc99\" opacity=\"0.6\" /><circle cx=\"0.0\" cy=\"0.0\" r=\"0.0324\" stroke=\"#555555\" stroke-width=\"0.0108\" fill=\"#66cc99\" opacity=\"0.6\" /><circle cx=\"0.0\" cy=\"0.5\" r=\"0.0324\" stroke=\"#555555\" stroke-width=\"0.0108\" fill=\"#66cc99\" opacity=\"0.6\" /></g></g></svg>"
      ],
      "text/plain": [
       "<shapely.geometry.multipoint.MultiPoint at 0x1f143e2e5c8>"
      ]
     },
     "execution_count": 66,
     "metadata": {},
     "output_type": "execute_result"
    }
   ],
   "source": [
    "poly_as_mpt(simplified_polygon2)"
   ]
  },
  {
   "cell_type": "code",
   "execution_count": 68,
   "metadata": {},
   "outputs": [
    {
     "data": {
      "image/svg+xml": [
       "<svg xmlns=\"http://www.w3.org/2000/svg\" xmlns:xlink=\"http://www.w3.org/1999/xlink\" width=\"100.0\" height=\"100.0\" viewBox=\"-0.04 -0.04 1.08 1.08\" preserveAspectRatio=\"xMinYMin meet\"><g transform=\"matrix(1,0,0,-1,0,1.0)\"><g><circle cx=\"0.0\" cy=\"0.5\" r=\"0.0324\" stroke=\"#555555\" stroke-width=\"0.0108\" fill=\"#66cc99\" opacity=\"0.6\" /><circle cx=\"0.0\" cy=\"1.0\" r=\"0.0324\" stroke=\"#555555\" stroke-width=\"0.0108\" fill=\"#66cc99\" opacity=\"0.6\" /><circle cx=\"1.0\" cy=\"1.0\" r=\"0.0324\" stroke=\"#555555\" stroke-width=\"0.0108\" fill=\"#66cc99\" opacity=\"0.6\" /><circle cx=\"1.0\" cy=\"0.0\" r=\"0.0324\" stroke=\"#555555\" stroke-width=\"0.0108\" fill=\"#66cc99\" opacity=\"0.6\" /><circle cx=\"0.0\" cy=\"0.0\" r=\"0.0324\" stroke=\"#555555\" stroke-width=\"0.0108\" fill=\"#66cc99\" opacity=\"0.6\" /><circle cx=\"0.0\" cy=\"0.5\" r=\"0.0324\" stroke=\"#555555\" stroke-width=\"0.0108\" fill=\"#66cc99\" opacity=\"0.6\" /></g></g></svg>"
      ],
      "text/plain": [
       "<shapely.geometry.multipoint.MultiPoint at 0x1f1446fe5c8>"
      ]
     },
     "execution_count": 68,
     "metadata": {},
     "output_type": "execute_result"
    }
   ],
   "source": [
    "poly_as_mpt(simplify_by_interior_angle(simplified_polygon2))"
   ]
  },
  {
   "cell_type": "code",
   "execution_count": 72,
   "metadata": {},
   "outputs": [
    {
     "data": {
      "image/svg+xml": [
       "<svg xmlns=\"http://www.w3.org/2000/svg\" xmlns:xlink=\"http://www.w3.org/1999/xlink\" width=\"100.0\" height=\"100.0\" viewBox=\"4.6 5.269872981077807 10.8 9.460254037844388\" preserveAspectRatio=\"xMinYMin meet\"><g transform=\"matrix(1,0,0,-1,0,20.0)\"><path fill-rule=\"evenodd\" fill=\"#66cc99\" stroke=\"#555555\" stroke-width=\"0.21600000000000003\" opacity=\"0.6\" d=\"M 15.0,10.0 L 12.5,14.330127018922193 L 7.500000000000001,14.330127018922195 L 5.0,10.0 L 7.499999999999998,5.669872981077807 L 12.5,5.669872981077807 L 15.0,10.0 z\" /></g></svg>"
      ],
      "text/plain": [
       "<shapely.geometry.polygon.Polygon at 0x1f14478e548>"
      ]
     },
     "execution_count": 72,
     "metadata": {},
     "output_type": "execute_result"
    }
   ],
   "source": [
    "def create_hexagon(l, x, y):\n",
    "    \"\"\"\n",
    "    Create a hexagon centered on (x, y)\n",
    "    :param l: length of the hexagon's edge\n",
    "    :param x: x-coordinate of the hexagon's center\n",
    "    :param y: y-coordinate of the hexagon's center\n",
    "    :return: The polygon containing the hexagon's coordinates\n",
    "    \"\"\"\n",
    "    c = [[x + math.cos(math.radians(angle)) * l, y + math.sin(math.radians(angle)) * l] for angle in range(0, 360, 60)]\n",
    "    return sg.Polygon(c)\n",
    "hex1 = create_hexagon(5,10,10)\n",
    "hex1"
   ]
  },
  {
   "cell_type": "code",
   "execution_count": 259,
   "metadata": {},
   "outputs": [],
   "source": [
    "def generate_degen(geom):\n",
    "    \n",
    "    pps=5 # points per side\n",
    "    \n",
    "    \n",
    "#     get normalized vec values\n",
    "    coords = geom.exterior.coords[:]\n",
    "    coords_arr = np.array(coords)\n",
    "    vector_rep = np.diff(coords_arr,axis = 0)\n",
    "    distances = np.linalg.norm(vector_rep,axis = 1)\n",
    "    \n",
    "    idx_dict = {\"distance\":0, \n",
    "               \"vector\":1,\n",
    "               \"coords\":2}\n",
    "    \n",
    "    final_coords=[]\n",
    "    for e,d_v_c in enumerate(zip(distances,vector_rep,coords_arr)):\n",
    "        d= d_v_c[idx_dict['distance']]\n",
    "        v = d_v_c[idx_dict['vector']]\n",
    "        c = d_v_c[idx_dict['coords']]\n",
    "#         print(c)\n",
    "        u = v/d\n",
    "        side_pts = np.random.randint(1,d*10,(pps))/10 # dont want a chance of zero \n",
    "        new_offset = [c + u*du for du in side_pts]\n",
    "#         print(new_offset)\n",
    "        final_coords+= [c] + new_offset #+ list(coords[e+1])\n",
    "        \n",
    "    return final_coords\n",
    "#         print(u)\n",
    "        "
   ]
  },
  {
   "cell_type": "code",
   "execution_count": 260,
   "metadata": {},
   "outputs": [],
   "source": [
    "after = generate_degen(hex1)"
   ]
  },
  {
   "cell_type": "code",
   "execution_count": 261,
   "metadata": {},
   "outputs": [
    {
     "data": {
      "text/plain": [
       "[array([15., 10.]),\n",
       " array([12.7       , 13.98371686]),\n",
       " array([12.65     , 14.0703194]),\n",
       " array([12.55      , 14.24352448]),\n",
       " array([14.4       , 11.03923048]),\n",
       " array([13.95      , 11.81865335]),\n",
       " array([12.5       , 14.33012702]),\n",
       " array([ 8.1       , 14.33012702]),\n",
       " array([12.        , 14.33012702]),\n",
       " array([10.1       , 14.33012702]),\n",
       " array([ 8.3       , 14.33012702]),\n",
       " array([12.2       , 14.33012702]),\n",
       " array([ 7.5       , 14.33012702]),\n",
       " array([ 6.35      , 12.33826859]),\n",
       " array([ 6.9       , 13.29089653]),\n",
       " array([ 5.8       , 11.38564065]),\n",
       " array([ 5.65      , 11.12583302]),\n",
       " array([ 5.3       , 10.51961524]),\n",
       " array([ 5., 10.]),\n",
       " array([6.85      , 6.79570601]),\n",
       " array([7.1      , 6.3626933]),\n",
       " array([5.4       , 9.30717968]),\n",
       " array([7.4       , 5.84307806]),\n",
       " array([5.95      , 8.35455173]),\n",
       " array([7.5       , 5.66987298]),\n",
       " array([9.2       , 5.66987298]),\n",
       " array([11.5       ,  5.66987298]),\n",
       " array([12.        ,  5.66987298]),\n",
       " array([9.8       , 5.66987298]),\n",
       " array([12.4       ,  5.66987298]),\n",
       " array([12.5       ,  5.66987298]),\n",
       " array([13.35      ,  7.14211617]),\n",
       " array([12.95      ,  6.44929584]),\n",
       " array([14.25      ,  8.70096189]),\n",
       " array([13.25      ,  6.96891109]),\n",
       " array([13.1       ,  6.70910347])]"
      ]
     },
     "execution_count": 261,
     "metadata": {},
     "output_type": "execute_result"
    }
   ],
   "source": [
    "after"
   ]
  },
  {
   "cell_type": "code",
   "execution_count": 263,
   "metadata": {},
   "outputs": [],
   "source": [
    "after_pts = [sg.Point(x) for x in after]\n",
    "after_mpts = sg.MultiPoint(after_pts)"
   ]
  },
  {
   "cell_type": "code",
   "execution_count": 264,
   "metadata": {},
   "outputs": [
    {
     "data": {
      "image/svg+xml": [
       "<svg xmlns=\"http://www.w3.org/2000/svg\" xmlns:xlink=\"http://www.w3.org/1999/xlink\" width=\"100.0\" height=\"100.0\" viewBox=\"4.6 5.269872981077807 10.8 9.460254037844388\" preserveAspectRatio=\"xMinYMin meet\"><g transform=\"matrix(1,0,0,-1,0,20.0)\"><g><circle cx=\"15.0\" cy=\"10.0\" r=\"0.32400000000000007\" stroke=\"#555555\" stroke-width=\"0.10800000000000001\" fill=\"#66cc99\" opacity=\"0.6\" /><circle cx=\"12.7\" cy=\"13.983716857408417\" r=\"0.32400000000000007\" stroke=\"#555555\" stroke-width=\"0.10800000000000001\" fill=\"#66cc99\" opacity=\"0.6\" /><circle cx=\"12.65\" cy=\"14.07031939778686\" r=\"0.32400000000000007\" stroke=\"#555555\" stroke-width=\"0.10800000000000001\" fill=\"#66cc99\" opacity=\"0.6\" /><circle cx=\"12.55\" cy=\"14.24352447854375\" r=\"0.32400000000000007\" stroke=\"#555555\" stroke-width=\"0.10800000000000001\" fill=\"#66cc99\" opacity=\"0.6\" /><circle cx=\"14.4\" cy=\"11.039230484541326\" r=\"0.32400000000000007\" stroke=\"#555555\" stroke-width=\"0.10800000000000001\" fill=\"#66cc99\" opacity=\"0.6\" /><circle cx=\"13.95\" cy=\"11.818653347947322\" r=\"0.32400000000000007\" stroke=\"#555555\" stroke-width=\"0.10800000000000001\" fill=\"#66cc99\" opacity=\"0.6\" /><circle cx=\"12.5\" cy=\"14.330127018922193\" r=\"0.32400000000000007\" stroke=\"#555555\" stroke-width=\"0.10800000000000001\" fill=\"#66cc99\" opacity=\"0.6\" /><circle cx=\"8.1\" cy=\"14.330127018922195\" r=\"0.32400000000000007\" stroke=\"#555555\" stroke-width=\"0.10800000000000001\" fill=\"#66cc99\" opacity=\"0.6\" /><circle cx=\"12.0\" cy=\"14.330127018922193\" r=\"0.32400000000000007\" stroke=\"#555555\" stroke-width=\"0.10800000000000001\" fill=\"#66cc99\" opacity=\"0.6\" /><circle cx=\"10.1\" cy=\"14.330127018922193\" r=\"0.32400000000000007\" stroke=\"#555555\" stroke-width=\"0.10800000000000001\" fill=\"#66cc99\" opacity=\"0.6\" /><circle cx=\"8.3\" cy=\"14.330127018922195\" r=\"0.32400000000000007\" stroke=\"#555555\" stroke-width=\"0.10800000000000001\" fill=\"#66cc99\" opacity=\"0.6\" /><circle cx=\"12.2\" cy=\"14.330127018922193\" r=\"0.32400000000000007\" stroke=\"#555555\" stroke-width=\"0.10800000000000001\" fill=\"#66cc99\" opacity=\"0.6\" /><circle cx=\"7.500000000000001\" cy=\"14.330127018922195\" r=\"0.32400000000000007\" stroke=\"#555555\" stroke-width=\"0.10800000000000001\" fill=\"#66cc99\" opacity=\"0.6\" /><circle cx=\"6.350000000000001\" cy=\"12.338268590217986\" r=\"0.32400000000000007\" stroke=\"#555555\" stroke-width=\"0.10800000000000001\" fill=\"#66cc99\" opacity=\"0.6\" /><circle cx=\"6.900000000000001\" cy=\"13.290896534380868\" r=\"0.32400000000000007\" stroke=\"#555555\" stroke-width=\"0.10800000000000001\" fill=\"#66cc99\" opacity=\"0.6\" /><circle cx=\"5.800000000000001\" cy=\"11.385640646055103\" r=\"0.32400000000000007\" stroke=\"#555555\" stroke-width=\"0.10800000000000001\" fill=\"#66cc99\" opacity=\"0.6\" /><circle cx=\"5.65\" cy=\"11.125833024919771\" r=\"0.32400000000000007\" stroke=\"#555555\" stroke-width=\"0.10800000000000001\" fill=\"#66cc99\" opacity=\"0.6\" /><circle cx=\"5.300000000000001\" cy=\"10.519615242270664\" r=\"0.32400000000000007\" stroke=\"#555555\" stroke-width=\"0.10800000000000001\" fill=\"#66cc99\" opacity=\"0.6\" /><circle cx=\"5.0\" cy=\"10.0\" r=\"0.32400000000000007\" stroke=\"#555555\" stroke-width=\"0.10800000000000001\" fill=\"#66cc99\" opacity=\"0.6\" /><circle cx=\"6.85\" cy=\"6.795706005997577\" r=\"0.32400000000000007\" stroke=\"#555555\" stroke-width=\"0.10800000000000001\" fill=\"#66cc99\" opacity=\"0.6\" /><circle cx=\"7.1\" cy=\"6.362693304105356\" r=\"0.32400000000000007\" stroke=\"#555555\" stroke-width=\"0.10800000000000001\" fill=\"#66cc99\" opacity=\"0.6\" /><circle cx=\"5.4\" cy=\"9.30717967697245\" r=\"0.32400000000000007\" stroke=\"#555555\" stroke-width=\"0.10800000000000001\" fill=\"#66cc99\" opacity=\"0.6\" /><circle cx=\"7.399999999999999\" cy=\"5.843078061834694\" r=\"0.32400000000000007\" stroke=\"#555555\" stroke-width=\"0.10800000000000001\" fill=\"#66cc99\" opacity=\"0.6\" /><circle cx=\"5.949999999999999\" cy=\"8.354551732809567\" r=\"0.32400000000000007\" stroke=\"#555555\" stroke-width=\"0.10800000000000001\" fill=\"#66cc99\" opacity=\"0.6\" /><circle cx=\"7.499999999999998\" cy=\"5.669872981077807\" r=\"0.32400000000000007\" stroke=\"#555555\" stroke-width=\"0.10800000000000001\" fill=\"#66cc99\" opacity=\"0.6\" /><circle cx=\"9.199999999999998\" cy=\"5.669872981077807\" r=\"0.32400000000000007\" stroke=\"#555555\" stroke-width=\"0.10800000000000001\" fill=\"#66cc99\" opacity=\"0.6\" /><circle cx=\"11.499999999999998\" cy=\"5.669872981077807\" r=\"0.32400000000000007\" stroke=\"#555555\" stroke-width=\"0.10800000000000001\" fill=\"#66cc99\" opacity=\"0.6\" /><circle cx=\"11.999999999999998\" cy=\"5.669872981077807\" r=\"0.32400000000000007\" stroke=\"#555555\" stroke-width=\"0.10800000000000001\" fill=\"#66cc99\" opacity=\"0.6\" /><circle cx=\"9.799999999999997\" cy=\"5.669872981077807\" r=\"0.32400000000000007\" stroke=\"#555555\" stroke-width=\"0.10800000000000001\" fill=\"#66cc99\" opacity=\"0.6\" /><circle cx=\"12.399999999999999\" cy=\"5.669872981077807\" r=\"0.32400000000000007\" stroke=\"#555555\" stroke-width=\"0.10800000000000001\" fill=\"#66cc99\" opacity=\"0.6\" /><circle cx=\"12.5\" cy=\"5.669872981077807\" r=\"0.32400000000000007\" stroke=\"#555555\" stroke-width=\"0.10800000000000001\" fill=\"#66cc99\" opacity=\"0.6\" /><circle cx=\"13.35\" cy=\"7.142116167511353\" r=\"0.32400000000000007\" stroke=\"#555555\" stroke-width=\"0.10800000000000001\" fill=\"#66cc99\" opacity=\"0.6\" /><circle cx=\"12.95\" cy=\"6.449295844483802\" r=\"0.32400000000000007\" stroke=\"#555555\" stroke-width=\"0.10800000000000001\" fill=\"#66cc99\" opacity=\"0.6\" /><circle cx=\"14.25\" cy=\"8.700961894323342\" r=\"0.32400000000000007\" stroke=\"#555555\" stroke-width=\"0.10800000000000001\" fill=\"#66cc99\" opacity=\"0.6\" /><circle cx=\"13.25\" cy=\"6.968911086754465\" r=\"0.32400000000000007\" stroke=\"#555555\" stroke-width=\"0.10800000000000001\" fill=\"#66cc99\" opacity=\"0.6\" /><circle cx=\"13.1\" cy=\"6.709103465619133\" r=\"0.32400000000000007\" stroke=\"#555555\" stroke-width=\"0.10800000000000001\" fill=\"#66cc99\" opacity=\"0.6\" /></g></g></svg>"
      ],
      "text/plain": [
       "<shapely.geometry.multipoint.MultiPoint at 0x1f1453aba08>"
      ]
     },
     "execution_count": 264,
     "metadata": {},
     "output_type": "execute_result"
    }
   ],
   "source": [
    "after_mpts"
   ]
  },
  {
   "cell_type": "code",
   "execution_count": 234,
   "metadata": {},
   "outputs": [
    {
     "data": {
      "text/plain": [
       "[0, 0.5]"
      ]
     },
     "execution_count": 234,
     "metadata": {},
     "output_type": "execute_result"
    }
   ],
   "source": [
    "list(coords[0])"
   ]
  },
  {
   "cell_type": "code",
   "execution_count": 211,
   "metadata": {},
   "outputs": [],
   "source": [
    "u2 = vec1[2]/nv[2]\n",
    "side2 = np.random.randint(0,nv[2]*10,(pps))/10\n",
    "new_hex_pts2 = [hexarr[2] + u2*du for du in side2]\n"
   ]
  },
  {
   "cell_type": "code",
   "execution_count": 216,
   "metadata": {},
   "outputs": [
    {
     "data": {
      "image/svg+xml": [
       "<svg xmlns=\"http://www.w3.org/2000/svg\" xmlns:xlink=\"http://www.w3.org/1999/xlink\" width=\"100.0\" height=\"100.0\" viewBox=\"-0.5489563694509235 -0.5489563694509235 8.247912738901848 14.821821975174934\" preserveAspectRatio=\"xMinYMin meet\"><g transform=\"matrix(1,0,0,-1,0,13.723909236273087)\"><g><circle cx=\"7.150000000000001\" cy=\"13.723909236273087\" r=\"0.44465465925524805\" stroke=\"#555555\" stroke-width=\"0.14821821975174934\" fill=\"#66cc99\" opacity=\"0.6\" /><circle cx=\"5.950000000000001\" cy=\"11.645448267190435\" r=\"0.44465465925524805\" stroke=\"#555555\" stroke-width=\"0.14821821975174934\" fill=\"#66cc99\" opacity=\"0.6\" /><circle cx=\"6.6000000000000005\" cy=\"12.771281292110205\" r=\"0.44465465925524805\" stroke=\"#555555\" stroke-width=\"0.14821821975174934\" fill=\"#66cc99\" opacity=\"0.6\" /><circle cx=\"6.800000000000001\" cy=\"13.11769145362398\" r=\"0.44465465925524805\" stroke=\"#555555\" stroke-width=\"0.14821821975174934\" fill=\"#66cc99\" opacity=\"0.6\" /><circle cx=\"0.0\" cy=\"0.5\" r=\"0.44465465925524805\" stroke=\"#555555\" stroke-width=\"0.14821821975174934\" fill=\"#66cc99\" opacity=\"0.6\" /><circle cx=\"0.0\" cy=\"1.0\" r=\"0.44465465925524805\" stroke=\"#555555\" stroke-width=\"0.14821821975174934\" fill=\"#66cc99\" opacity=\"0.6\" /><circle cx=\"1.0\" cy=\"1.0\" r=\"0.44465465925524805\" stroke=\"#555555\" stroke-width=\"0.14821821975174934\" fill=\"#66cc99\" opacity=\"0.6\" /><circle cx=\"1.0\" cy=\"0.0\" r=\"0.44465465925524805\" stroke=\"#555555\" stroke-width=\"0.14821821975174934\" fill=\"#66cc99\" opacity=\"0.6\" /><circle cx=\"0.0\" cy=\"0.0\" r=\"0.44465465925524805\" stroke=\"#555555\" stroke-width=\"0.14821821975174934\" fill=\"#66cc99\" opacity=\"0.6\" /></g></g></svg>"
      ],
      "text/plain": [
       "<shapely.geometry.multipoint.MultiPoint at 0x1f144ff8688>"
      ]
     },
     "execution_count": 216,
     "metadata": {},
     "output_type": "execute_result"
    }
   ],
   "source": [
    "lel = new_hex_pts2 + coords\n",
    "lelp = [sg.Point(x) for x in lel]\n",
    "sg.MultiPoint(lelp)"
   ]
  },
  {
   "cell_type": "code",
   "execution_count": 214,
   "metadata": {},
   "outputs": [
    {
     "data": {
      "text/plain": [
       "[(0, 0.5), (0, 1), (1, 1), (1, 0), (0, 0)]"
      ]
     },
     "execution_count": 214,
     "metadata": {},
     "output_type": "execute_result"
    }
   ],
   "source": [
    "coords"
   ]
  },
  {
   "cell_type": "code",
   "execution_count": 210,
   "metadata": {},
   "outputs": [
    {
     "ename": "NameError",
     "evalue": "name 'd_v_c' is not defined",
     "output_type": "error",
     "traceback": [
      "\u001b[1;31m---------------------------------------------------------------------------\u001b[0m",
      "\u001b[1;31mNameError\u001b[0m                                 Traceback (most recent call last)",
      "\u001b[1;32m<ipython-input-210-81e1ba2bd5ba>\u001b[0m in \u001b[0;36m<module>\u001b[1;34m\u001b[0m\n\u001b[1;32m----> 1\u001b[1;33m \u001b[0mgenerate_degen\u001b[0m\u001b[1;33m(\u001b[0m\u001b[0mhex1\u001b[0m\u001b[1;33m)\u001b[0m\u001b[1;33m\u001b[0m\u001b[1;33m\u001b[0m\u001b[0m\n\u001b[0m",
      "\u001b[1;32m<ipython-input-208-5fa50bb7112d>\u001b[0m in \u001b[0;36mgenerate_degen\u001b[1;34m(geom)\u001b[0m\n\u001b[0;32m     17\u001b[0m     \u001b[1;32mfor\u001b[0m \u001b[0me\u001b[0m\u001b[1;33m,\u001b[0m\u001b[1;33m(\u001b[0m\u001b[0md\u001b[0m\u001b[1;33m,\u001b[0m\u001b[0mv\u001b[0m\u001b[1;33m,\u001b[0m\u001b[0mc\u001b[0m\u001b[1;33m)\u001b[0m \u001b[1;32min\u001b[0m \u001b[0menumerate\u001b[0m\u001b[1;33m(\u001b[0m\u001b[0mzip\u001b[0m\u001b[1;33m(\u001b[0m\u001b[0mdistances\u001b[0m\u001b[1;33m,\u001b[0m\u001b[0mvector_rep\u001b[0m\u001b[1;33m,\u001b[0m\u001b[0mcoords\u001b[0m\u001b[1;33m)\u001b[0m\u001b[1;33m)\u001b[0m\u001b[1;33m:\u001b[0m\u001b[1;33m\u001b[0m\u001b[1;33m\u001b[0m\u001b[0m\n\u001b[0;32m     18\u001b[0m \u001b[1;33m\u001b[0m\u001b[0m\n\u001b[1;32m---> 19\u001b[1;33m         \u001b[0mu\u001b[0m \u001b[1;33m=\u001b[0m \u001b[0md_v_c\u001b[0m\u001b[1;33m[\u001b[0m\u001b[0midx_dict\u001b[0m\u001b[1;33m[\u001b[0m\u001b[1;34m'vector'\u001b[0m\u001b[1;33m]\u001b[0m\u001b[1;33m]\u001b[0m\u001b[1;33m/\u001b[0m\u001b[0md_v_C\u001b[0m\u001b[1;33m[\u001b[0m\u001b[0midx_dict\u001b[0m\u001b[1;33m[\u001b[0m\u001b[1;34m'distance'\u001b[0m\u001b[1;33m]\u001b[0m\u001b[1;33m]\u001b[0m\u001b[1;33m\u001b[0m\u001b[1;33m\u001b[0m\u001b[0m\n\u001b[0m\u001b[0;32m     20\u001b[0m \u001b[1;31m#         side_pts = np.random.randint(0,nv[2]*10,(pps))/10\u001b[0m\u001b[1;33m\u001b[0m\u001b[1;33m\u001b[0m\u001b[1;33m\u001b[0m\u001b[0m\n\u001b[0;32m     21\u001b[0m \u001b[1;33m\u001b[0m\u001b[0m\n",
      "\u001b[1;31mNameError\u001b[0m: name 'd_v_c' is not defined"
     ]
    }
   ],
   "source": []
  },
  {
   "cell_type": "code",
   "execution_count": 74,
   "metadata": {},
   "outputs": [
    {
     "data": {
      "image/svg+xml": [
       "<svg xmlns=\"http://www.w3.org/2000/svg\" xmlns:xlink=\"http://www.w3.org/1999/xlink\" width=\"100.0\" height=\"100.0\" viewBox=\"4.6 5.269872981077807 10.8 9.460254037844388\" preserveAspectRatio=\"xMinYMin meet\"><g transform=\"matrix(1,0,0,-1,0,20.0)\"><g><circle cx=\"15.0\" cy=\"10.0\" r=\"0.32400000000000007\" stroke=\"#555555\" stroke-width=\"0.10800000000000001\" fill=\"#66cc99\" opacity=\"0.6\" /><circle cx=\"12.5\" cy=\"14.330127018922193\" r=\"0.32400000000000007\" stroke=\"#555555\" stroke-width=\"0.10800000000000001\" fill=\"#66cc99\" opacity=\"0.6\" /><circle cx=\"7.500000000000001\" cy=\"14.330127018922195\" r=\"0.32400000000000007\" stroke=\"#555555\" stroke-width=\"0.10800000000000001\" fill=\"#66cc99\" opacity=\"0.6\" /><circle cx=\"5.0\" cy=\"10.0\" r=\"0.32400000000000007\" stroke=\"#555555\" stroke-width=\"0.10800000000000001\" fill=\"#66cc99\" opacity=\"0.6\" /><circle cx=\"7.499999999999998\" cy=\"5.669872981077807\" r=\"0.32400000000000007\" stroke=\"#555555\" stroke-width=\"0.10800000000000001\" fill=\"#66cc99\" opacity=\"0.6\" /><circle cx=\"12.5\" cy=\"5.669872981077807\" r=\"0.32400000000000007\" stroke=\"#555555\" stroke-width=\"0.10800000000000001\" fill=\"#66cc99\" opacity=\"0.6\" /><circle cx=\"15.0\" cy=\"10.0\" r=\"0.32400000000000007\" stroke=\"#555555\" stroke-width=\"0.10800000000000001\" fill=\"#66cc99\" opacity=\"0.6\" /></g></g></svg>"
      ],
      "text/plain": [
       "<shapely.geometry.multipoint.MultiPoint at 0x1f144763b88>"
      ]
     },
     "execution_count": 74,
     "metadata": {},
     "output_type": "execute_result"
    }
   ],
   "source": [
    "poly_as_mpt(hex1)"
   ]
  },
  {
   "cell_type": "code",
   "execution_count": 80,
   "metadata": {},
   "outputs": [],
   "source": [
    "hexcoords = hex1.exterior.coords[:]\n",
    "hexarr= np.array(hexcoords)"
   ]
  },
  {
   "cell_type": "code",
   "execution_count": 99,
   "metadata": {},
   "outputs": [],
   "source": [
    "vec1 = np.diff(hexarr,axis = 0)\n",
    "nv = np.linalg.norm(vec1,axis=1) #actually distances lol\n"
   ]
  },
  {
   "cell_type": "code",
   "execution_count": 110,
   "metadata": {},
   "outputs": [
    {
     "data": {
      "text/plain": [
       "array([ 4.33012702e+00,  1.77635684e-15, -4.33012702e+00, -4.33012702e+00,\n",
       "        0.00000000e+00,  4.33012702e+00])"
      ]
     },
     "execution_count": 110,
     "metadata": {},
     "output_type": "execute_result"
    }
   ],
   "source": [
    "vec1[:,1]"
   ]
  },
  {
   "cell_type": "code",
   "execution_count": 113,
   "metadata": {},
   "outputs": [],
   "source": [
    "u1 = vec1[0]/nv[0]"
   ]
  },
  {
   "cell_type": "code",
   "execution_count": 126,
   "metadata": {},
   "outputs": [
    {
     "data": {
      "text/plain": [
       "array([12.5       , 14.33012702])"
      ]
     },
     "execution_count": 126,
     "metadata": {},
     "output_type": "execute_result"
    }
   ],
   "source": [
    "new_pt = hexarr[0] + 5*u1\n",
    "new_pt"
   ]
  },
  {
   "cell_type": "code",
   "execution_count": 127,
   "metadata": {},
   "outputs": [
    {
     "data": {
      "image/svg+xml": [
       "<svg xmlns=\"http://www.w3.org/2000/svg\" xmlns:xlink=\"http://www.w3.org/1999/xlink\" width=\"100.0\" height=\"100.0\" viewBox=\"4.6 5.269872981077807 10.8 9.460254037844388\" preserveAspectRatio=\"xMinYMin meet\"><g transform=\"matrix(1,0,0,-1,0,20.0)\"><g><circle cx=\"5.0\" cy=\"10.0\" r=\"0.32400000000000007\" stroke=\"#555555\" stroke-width=\"0.10800000000000001\" fill=\"#66cc99\" opacity=\"0.6\" /><circle cx=\"7.499999999999998\" cy=\"5.669872981077807\" r=\"0.32400000000000007\" stroke=\"#555555\" stroke-width=\"0.10800000000000001\" fill=\"#66cc99\" opacity=\"0.6\" /><circle cx=\"7.500000000000001\" cy=\"14.330127018922195\" r=\"0.32400000000000007\" stroke=\"#555555\" stroke-width=\"0.10800000000000001\" fill=\"#66cc99\" opacity=\"0.6\" /><circle cx=\"12.5\" cy=\"5.669872981077807\" r=\"0.32400000000000007\" stroke=\"#555555\" stroke-width=\"0.10800000000000001\" fill=\"#66cc99\" opacity=\"0.6\" /><circle cx=\"12.5\" cy=\"14.330127018922193\" r=\"0.32400000000000007\" stroke=\"#555555\" stroke-width=\"0.10800000000000001\" fill=\"#66cc99\" opacity=\"0.6\" /><circle cx=\"15.0\" cy=\"10.0\" r=\"0.32400000000000007\" stroke=\"#555555\" stroke-width=\"0.10800000000000001\" fill=\"#66cc99\" opacity=\"0.6\" /></g></g></svg>"
      ],
      "text/plain": [
       "<shapely.geometry.multipoint.MultiPoint at 0x1f1444b9b08>"
      ]
     },
     "execution_count": 127,
     "metadata": {},
     "output_type": "execute_result"
    }
   ],
   "source": [
    "poly_as_mpt(hex1).union(sg.Point(new_pt))"
   ]
  },
  {
   "cell_type": "code",
   "execution_count": 128,
   "metadata": {},
   "outputs": [
    {
     "data": {
      "text/plain": [
       "array([-2.5       ,  4.33012702])"
      ]
     },
     "execution_count": 128,
     "metadata": {},
     "output_type": "execute_result"
    }
   ],
   "source": [
    "u1*5"
   ]
  },
  {
   "cell_type": "code",
   "execution_count": 129,
   "metadata": {},
   "outputs": [],
   "source": [
    "pps=4\n",
    "d = nv[0]\n",
    "side = np.random.randint(0,d*10,(pps))/10"
   ]
  },
  {
   "cell_type": "code",
   "execution_count": 184,
   "metadata": {},
   "outputs": [],
   "source": [
    "new_hx_pts = [hexarr[0] + u1*du for du in side]\n",
    "\n",
    "u2 = vec1[2]/nv[2]\n",
    "side2 = np.random.randint(0,nv[2]*10,(pps))/10\n",
    "new_hex_pts2 = [hexarr[2] + u2*du for du in side2]\n",
    "\n"
   ]
  },
  {
   "cell_type": "code",
   "execution_count": 187,
   "metadata": {},
   "outputs": [],
   "source": [
    "final_hx = new_hex_pts2 + new_hx_pts"
   ]
  },
  {
   "cell_type": "code",
   "execution_count": 188,
   "metadata": {},
   "outputs": [],
   "source": [
    "new_hx_aspts = [sg.Point(x) for x in final_hx]\n",
    "new_hx_asmpts = sg.MultiPoint(new_hx_aspts)"
   ]
  },
  {
   "cell_type": "code",
   "execution_count": 190,
   "metadata": {},
   "outputs": [
    {
     "data": {
      "image/svg+xml": [
       "<svg xmlns=\"http://www.w3.org/2000/svg\" xmlns:xlink=\"http://www.w3.org/1999/xlink\" width=\"100.0\" height=\"100.0\" viewBox=\"4.6 5.269872981077807 10.8 9.460254037844388\" preserveAspectRatio=\"xMinYMin meet\"><g transform=\"matrix(1,0,0,-1,0,20.0)\"><g><circle cx=\"5.0\" cy=\"10.0\" r=\"0.32400000000000007\" stroke=\"#555555\" stroke-width=\"0.10800000000000001\" fill=\"#66cc99\" opacity=\"0.6\" /><circle cx=\"5.050000000000001\" cy=\"10.086602540378445\" r=\"0.32400000000000007\" stroke=\"#555555\" stroke-width=\"0.10800000000000001\" fill=\"#66cc99\" opacity=\"0.6\" /><circle cx=\"5.450000000000001\" cy=\"10.779422863405998\" r=\"0.32400000000000007\" stroke=\"#555555\" stroke-width=\"0.10800000000000001\" fill=\"#66cc99\" opacity=\"0.6\" /><circle cx=\"6.050000000000001\" cy=\"11.818653347947322\" r=\"0.32400000000000007\" stroke=\"#555555\" stroke-width=\"0.10800000000000001\" fill=\"#66cc99\" opacity=\"0.6\" /><circle cx=\"6.4\" cy=\"12.42487113059643\" r=\"0.32400000000000007\" stroke=\"#555555\" stroke-width=\"0.10800000000000001\" fill=\"#66cc99\" opacity=\"0.6\" /><circle cx=\"7.499999999999998\" cy=\"5.669872981077807\" r=\"0.32400000000000007\" stroke=\"#555555\" stroke-width=\"0.10800000000000001\" fill=\"#66cc99\" opacity=\"0.6\" /><circle cx=\"7.500000000000001\" cy=\"14.330127018922195\" r=\"0.32400000000000007\" stroke=\"#555555\" stroke-width=\"0.10800000000000001\" fill=\"#66cc99\" opacity=\"0.6\" /><circle cx=\"12.5\" cy=\"5.669872981077807\" r=\"0.32400000000000007\" stroke=\"#555555\" stroke-width=\"0.10800000000000001\" fill=\"#66cc99\" opacity=\"0.6\" /><circle cx=\"12.5\" cy=\"14.330127018922193\" r=\"0.32400000000000007\" stroke=\"#555555\" stroke-width=\"0.10800000000000001\" fill=\"#66cc99\" opacity=\"0.6\" /><circle cx=\"12.65\" cy=\"14.07031939778686\" r=\"0.32400000000000007\" stroke=\"#555555\" stroke-width=\"0.10800000000000001\" fill=\"#66cc99\" opacity=\"0.6\" /><circle cx=\"13.5\" cy=\"12.598076211353316\" r=\"0.32400000000000007\" stroke=\"#555555\" stroke-width=\"0.10800000000000001\" fill=\"#66cc99\" opacity=\"0.6\" /><circle cx=\"13.7\" cy=\"12.25166604983954\" r=\"0.32400000000000007\" stroke=\"#555555\" stroke-width=\"0.10800000000000001\" fill=\"#66cc99\" opacity=\"0.6\" /><circle cx=\"14.4\" cy=\"11.039230484541326\" r=\"0.32400000000000007\" stroke=\"#555555\" stroke-width=\"0.10800000000000001\" fill=\"#66cc99\" opacity=\"0.6\" /><circle cx=\"15.0\" cy=\"10.0\" r=\"0.32400000000000007\" stroke=\"#555555\" stroke-width=\"0.10800000000000001\" fill=\"#66cc99\" opacity=\"0.6\" /></g></g></svg>"
      ],
      "text/plain": [
       "<shapely.geometry.multipoint.MultiPoint at 0x1f144b3eb08>"
      ]
     },
     "execution_count": 190,
     "metadata": {},
     "output_type": "execute_result"
    }
   ],
   "source": [
    "testhex = poly_as_mpt(hex1).union(new_hx_asmpts)\n",
    "testhex"
   ]
  },
  {
   "cell_type": "code",
   "execution_count": 148,
   "metadata": {},
   "outputs": [],
   "source": [
    "testhex_poly = sg.Polygon(testhex)"
   ]
  },
  {
   "cell_type": "code",
   "execution_count": 156,
   "metadata": {},
   "outputs": [],
   "source": [
    "testpoly = testhex.convex_hull"
   ]
  },
  {
   "cell_type": "code",
   "execution_count": 159,
   "metadata": {},
   "outputs": [
    {
     "data": {
      "image/svg+xml": [
       "<svg xmlns=\"http://www.w3.org/2000/svg\" xmlns:xlink=\"http://www.w3.org/1999/xlink\" width=\"100.0\" height=\"100.0\" viewBox=\"4.6 5.269872981077807 10.8 9.460254037844388\" preserveAspectRatio=\"xMinYMin meet\"><g transform=\"matrix(1,0,0,-1,0,20.0)\"><path fill-rule=\"evenodd\" fill=\"#66cc99\" stroke=\"#555555\" stroke-width=\"0.21600000000000003\" opacity=\"0.6\" d=\"M 7.499999999999998,5.669872981077807 L 5.0,10.0 L 7.500000000000001,14.330127018922195 L 12.5,14.330127018922193 L 12.65,14.07031939778686 L 13.5,12.598076211353316 L 14.4,11.039230484541326 L 15.0,10.0 L 12.5,5.669872981077807 L 7.499999999999998,5.669872981077807 z\" /></g></svg>"
      ],
      "text/plain": [
       "<shapely.geometry.polygon.Polygon at 0x1f143e3b6c8>"
      ]
     },
     "execution_count": 159,
     "metadata": {},
     "output_type": "execute_result"
    }
   ],
   "source": [
    "testpoly"
   ]
  },
  {
   "cell_type": "code",
   "execution_count": 173,
   "metadata": {},
   "outputs": [
    {
     "data": {
      "image/svg+xml": [
       "<svg xmlns=\"http://www.w3.org/2000/svg\" xmlns:xlink=\"http://www.w3.org/1999/xlink\" width=\"100.0\" height=\"100.0\" viewBox=\"4.6 5.269872981077807 10.8 9.460254037844388\" preserveAspectRatio=\"xMinYMin meet\"><g transform=\"matrix(1,0,0,-1,0,20.0)\"><path fill-rule=\"evenodd\" fill=\"#66cc99\" stroke=\"#555555\" stroke-width=\"0.21600000000000003\" opacity=\"0.6\" d=\"M 7.499999999999998,5.669872981077807 L 5.0,10.0 L 7.500000000000001,14.330127018922195 L 12.5,14.330127018922193 L 15.0,10.0 L 12.5,5.669872981077807 L 7.499999999999998,5.669872981077807 z\" /></g></svg>"
      ],
      "text/plain": [
       "<shapely.geometry.polygon.Polygon at 0x1f144cfde88>"
      ]
     },
     "execution_count": 173,
     "metadata": {},
     "output_type": "execute_result"
    }
   ],
   "source": [
    "testpoly.simplify(0.5)"
   ]
  },
  {
   "cell_type": "code",
   "execution_count": 181,
   "metadata": {},
   "outputs": [
    {
     "data": {
      "text/plain": [
       "[(7.499999999999998, 5.669872981077807),\n",
       " (5.0, 10.0),\n",
       " (7.500000000000001, 14.330127018922195),\n",
       " (12.5, 14.330127018922193),\n",
       " (15.0, 10.0),\n",
       " (12.5, 5.669872981077807),\n",
       " (7.499999999999998, 5.669872981077807)]"
      ]
     },
     "execution_count": 181,
     "metadata": {},
     "output_type": "execute_result"
    }
   ],
   "source": [
    "testpoly.simplify(0.5).exterior.coords[:]"
   ]
  },
  {
   "cell_type": "code",
   "execution_count": 180,
   "metadata": {},
   "outputs": [
    {
     "data": {
      "text/plain": [
       "[(7.499999999999998, 5.669872981077807),\n",
       " (5.0, 10.0),\n",
       " (7.500000000000001, 14.330127018922195),\n",
       " (12.5, 14.330127018922193),\n",
       " (15.0, 10.0),\n",
       " (12.5, 5.669872981077807),\n",
       " (7.499999999999998, 5.669872981077807)]"
      ]
     },
     "execution_count": 180,
     "metadata": {},
     "output_type": "execute_result"
    }
   ],
   "source": [
    "simplify_by_interior_angle(testpoly).exterior.coords[:]"
   ]
  },
  {
   "cell_type": "code",
   "execution_count": null,
   "metadata": {},
   "outputs": [],
   "source": []
  }
 ],
 "metadata": {
  "kernelspec": {
   "display_name": "Python 3",
   "language": "python",
   "name": "python3"
  },
  "language_info": {
   "codemirror_mode": {
    "name": "ipython",
    "version": 3
   },
   "file_extension": ".py",
   "mimetype": "text/x-python",
   "name": "python",
   "nbconvert_exporter": "python",
   "pygments_lexer": "ipython3",
   "version": "3.7.6"
  }
 },
 "nbformat": 4,
 "nbformat_minor": 4
}
