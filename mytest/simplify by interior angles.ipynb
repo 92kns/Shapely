{
 "cells": [
  {
   "cell_type": "code",
   "execution_count": 1,
   "metadata": {},
   "outputs": [],
   "source": [
    "import shapely.geometry as sg\n",
    "import numpy as np\n",
    "import random\n"
   ]
  },
  {
   "cell_type": "code",
   "execution_count": 12,
   "metadata": {},
   "outputs": [],
   "source": [
    "box_min,box_max = 0,10\n",
    "\n",
    "box1 = sg.box(0,0,10,10)\n",
    "# box1"
   ]
  },
  {
   "cell_type": "code",
   "execution_count": 14,
   "metadata": {},
   "outputs": [],
   "source": [
    "# first set of rand pts\n",
    "side1 = random.sample(range(box_min+1,box_max),5)"
   ]
  },
  {
   "cell_type": "code",
   "execution_count": 16,
   "metadata": {},
   "outputs": [
    {
     "data": {
      "text/plain": [
       "[9, 6, 2, 4, 3]"
      ]
     },
     "execution_count": 16,
     "metadata": {},
     "output_type": "execute_result"
    }
   ],
   "source": [
    "side1"
   ]
  },
  {
   "cell_type": "code",
   "execution_count": 62,
   "metadata": {},
   "outputs": [],
   "source": [
    "a = []\n",
    "for i in range(100):\n",
    "    a.append(random.randint(1,10))\n",
    "    \n",
    "    "
   ]
  },
  {
   "cell_type": "code",
   "execution_count": 80,
   "metadata": {},
   "outputs": [],
   "source": [
    "side1[::-1].sort()\n"
   ]
  },
  {
   "cell_type": "code",
   "execution_count": 81,
   "metadata": {},
   "outputs": [
    {
     "data": {
      "text/plain": [
       "array([10.9, 10.8, 10.4,  9.9,  9. ,  8.9,  8.8,  8.3,  6.7,  5. ,  4.9,\n",
       "        4.9,  4.6,  4.1,  2.9,  2.3,  1.1,  0.6,  0.3,  0.1])"
      ]
     },
     "execution_count": 81,
     "metadata": {},
     "output_type": "execute_result"
    }
   ],
   "source": [
    "side1"
   ]
  },
  {
   "cell_type": "code",
   "execution_count": 82,
   "metadata": {},
   "outputs": [],
   "source": [
    "side1 = np.random.randint(box_min+1,box_max*10,(20))/10\n",
    "side1.sort()\n",
    "side2 = np.random.randint(box_min+1,box_max*10,(20))/10\n",
    "side2.sort()\n",
    "side3 = np.random.randint(box_min+1,box_max*10,(20))/10\n",
    "side3[::-1].sort()\n",
    "side4 = np.random.randint(box_min+1,box_max*10,(20))/10\n",
    "side4[::-1].sort()"
   ]
  },
  {
   "cell_type": "code",
   "execution_count": 83,
   "metadata": {},
   "outputs": [],
   "source": [
    "# make points\n",
    "side1_pts = [sg.Point(box_min,x) for x in side1]\n",
    "side1_mpts = sg.MultiPoint(side1_pts)\n",
    "side2_pts = [sg.Point(x,box_max) for x in side2]\n",
    "side2_mpts = sg.MultiPoint(side2_pts)\n",
    "side3_pts = [sg.Point(x,box_min) for x in side3]\n",
    "side3_mpts = sg.MultiPoint(side3_pts)\n",
    "side4_pts = [sg.Point(box_max,x) for x in side4]\n",
    "side4_mpts = sg.MultiPoint(side4_pts)"
   ]
  },
  {
   "cell_type": "code",
   "execution_count": 84,
   "metadata": {},
   "outputs": [
    {
     "data": {
      "image/svg+xml": [
       "<svg xmlns=\"http://www.w3.org/2000/svg\" xmlns:xlink=\"http://www.w3.org/1999/xlink\" width=\"100.0\" height=\"100.0\" viewBox=\"-0.4 -0.4 10.8 10.8\" preserveAspectRatio=\"xMinYMin meet\"><g transform=\"matrix(1,0,0,-1,0,10.0)\"><path fill-rule=\"evenodd\" fill=\"#ff3333\" stroke=\"#555555\" stroke-width=\"0.21600000000000003\" opacity=\"0.6\" d=\"M 0.0,0.7 L 0.0,1.5 L 0.0,1.7 L 0.0,2.4 L 0.0,3.1 L 0.0,3.8 L 0.0,4.4 L 0.0,4.4 L 0.0,5.7 L 0.0,6.0 L 0.0,6.7 L 0.0,6.8 L 0.0,6.9 L 0.0,7.1 L 0.0,8.1 L 0.0,8.5 L 0.0,9.4 L 0.0,9.4 L 0.0,9.7 L 0.0,9.7 L 0.7,10.0 L 1.1,10.0 L 1.6,10.0 L 1.7,10.0 L 2.0,10.0 L 2.1,10.0 L 2.1,10.0 L 2.3,10.0 L 2.7,10.0 L 3.2,10.0 L 3.8,10.0 L 3.8,10.0 L 4.3,10.0 L 8.2,10.0 L 8.4,10.0 L 8.6,10.0 L 8.7,10.0 L 9.2,10.0 L 9.4,10.0 L 9.9,10.0 L 9.8,0.0 L 9.5,0.0 L 9.3,0.0 L 8.9,0.0 L 7.9,0.0 L 7.4,0.0 L 7.4,0.0 L 7.1,0.0 L 6.9,0.0 L 6.6,0.0 L 5.5,0.0 L 5.1,0.0 L 4.8,0.0 L 4.2,0.0 L 4.0,0.0 L 4.0,0.0 L 3.3,0.0 L 3.1,0.0 L 3.0,0.0 L 1.7,0.0 L 10.0,9.6 L 10.0,9.5 L 10.0,8.5 L 10.0,8.3 L 10.0,5.6 L 10.0,5.4 L 10.0,5.1 L 10.0,5.0 L 10.0,4.1 L 10.0,4.0 L 10.0,4.0 L 10.0,3.4 L 10.0,3.2 L 10.0,3.1 L 10.0,3.0 L 10.0,2.6 L 10.0,2.5 L 10.0,2.5 L 10.0,1.6 L 10.0,0.6 L 0.0,0.7 z\" /></g></svg>"
      ],
      "text/plain": [
       "<shapely.geometry.polygon.Polygon at 0x1d8258783c8>"
      ]
     },
     "execution_count": 84,
     "metadata": {},
     "output_type": "execute_result"
    }
   ],
   "source": [
    "sg.Polygon(side1_pts + side2_pts + side3_pts + side4_pts)\n"
   ]
  },
  {
   "cell_type": "code",
   "execution_count": 73,
   "metadata": {},
   "outputs": [
    {
     "ename": "AttributeError",
     "evalue": "'list' object has no attribute 'union'",
     "output_type": "error",
     "traceback": [
      "\u001b[1;31m---------------------------------------------------------------------------\u001b[0m",
      "\u001b[1;31mAttributeError\u001b[0m                            Traceback (most recent call last)",
      "\u001b[1;32m<ipython-input-73-ec71533dd529>\u001b[0m in \u001b[0;36m<module>\u001b[1;34m\u001b[0m\n\u001b[1;32m----> 1\u001b[1;33m \u001b[0mside1_pts\u001b[0m\u001b[1;33m.\u001b[0m\u001b[0munion\u001b[0m\u001b[1;33m(\u001b[0m\u001b[0mside2_pts\u001b[0m\u001b[1;33m)\u001b[0m\u001b[1;33m.\u001b[0m\u001b[0munion\u001b[0m\u001b[1;33m(\u001b[0m\u001b[0mside3_pts\u001b[0m\u001b[1;33m)\u001b[0m\u001b[1;33m.\u001b[0m\u001b[0munion\u001b[0m\u001b[1;33m(\u001b[0m\u001b[0mside4_pts\u001b[0m\u001b[1;33m)\u001b[0m\u001b[1;33m\u001b[0m\u001b[1;33m\u001b[0m\u001b[0m\n\u001b[0m",
      "\u001b[1;31mAttributeError\u001b[0m: 'list' object has no attribute 'union'"
     ]
    }
   ],
   "source": [
    "side1_pts.union(side2_pts).union(side3_pts).union(side4_pts)"
   ]
  },
  {
   "cell_type": "code",
   "execution_count": 54,
   "metadata": {},
   "outputs": [],
   "source": [
    "def get_angles(vec_1,vec_2):\n",
    "    dot = np.dot(vec_1, vec_2)\n",
    "    det = np.cross(vec_1,vec_2)\n",
    "    angle_rad = np.arctan2(det,dot)\n",
    "    return np.degrees(angle_rad)\n",
    "\n",
    "\n",
    "def simplify_by_interior_angle(poly_in, deg_tol = 5):\n",
    "    \"\"\"\n",
    "    attempt to get persistent coordinate points that remain after\n",
    "    simplify, convex hul, etc\n",
    "    \n",
    "    \"\"\"\n",
    "    \n",
    "    ext_poly_coords = poly_in.exterior.coords[:]\n",
    "    vector_rep = np.diff(ext_poly_coords,axis = 0)\n",
    "    for i in range(0,len(vector_rep) -1 ):\n",
    "        angles_list.append(np.abs(get_angles(vector_rep[i],vector_rep[i+1])))\n",
    "        \n",
    "    thresh_vals_by_deg = np.where(np.array(angles_list) > deg_tol)\n",
    "#   gotta be a better way to do this. sandwich betweens first and last pts\n",
    "    new_idx = [0] + (thresh_vals_by_deg[0] + 1).tolist() + [0]\n",
    "    new_vertices = [ext_poly_coords[idx] for idx in new_idx]\n",
    "#     add geom type check l8r, for now only interested in poly\n",
    "    return sg.Polygon(new_vertices)\n",
    "\n",
    "        "
   ]
  },
  {
   "cell_type": "code",
   "execution_count": null,
   "metadata": {},
   "outputs": [],
   "source": []
  }
 ],
 "metadata": {
  "kernelspec": {
   "display_name": "Python 3",
   "language": "python",
   "name": "python3"
  },
  "language_info": {
   "codemirror_mode": {
    "name": "ipython",
    "version": 3
   },
   "file_extension": ".py",
   "mimetype": "text/x-python",
   "name": "python",
   "nbconvert_exporter": "python",
   "pygments_lexer": "ipython3",
   "version": "3.7.6"
  }
 },
 "nbformat": 4,
 "nbformat_minor": 4
}
